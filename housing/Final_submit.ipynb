{
  "cells": [
    {
      "cell_type": "code",
      "execution_count": 1,
      "metadata": {
        "colab": {
          "base_uri": "https://localhost:8080/"
        },
        "id": "snYdpK3hfAC3",
        "outputId": "8eda8900-169f-4dc9-919b-4c43d866c9cb"
      },
      "outputs": [
        {
          "name": "stdout",
          "output_type": "stream",
          "text": [
            "Defaulting to user installation because normal site-packages is not writeable\n",
            "Collecting autogluon\n",
            "  Downloading autogluon-1.0.0-py3-none-any.whl.metadata (12 kB)\n",
            "Collecting autogluon.core==1.0.0 (from autogluon.core[all]==1.0.0->autogluon)\n",
            "  Downloading autogluon.core-1.0.0-py3-none-any.whl.metadata (13 kB)\n",
            "Collecting autogluon.features==1.0.0 (from autogluon)\n",
            "  Downloading autogluon.features-1.0.0-py3-none-any.whl.metadata (12 kB)\n",
            "Collecting autogluon.tabular==1.0.0 (from autogluon.tabular[all]==1.0.0->autogluon)\n",
            "  Downloading autogluon.tabular-1.0.0-py3-none-any.whl.metadata (14 kB)\n",
            "Collecting autogluon.multimodal==1.0.0 (from autogluon)\n",
            "  Downloading autogluon.multimodal-1.0.0-py3-none-any.whl.metadata (14 kB)\n",
            "Collecting autogluon.timeseries==1.0.0 (from autogluon.timeseries[all]==1.0.0->autogluon)\n",
            "  Downloading autogluon.timeseries-1.0.0-py3-none-any.whl.metadata (13 kB)\n",
            "Requirement already satisfied: numpy<1.29,>=1.21 in /home/arawn/.local/lib/python3.9/site-packages (from autogluon.core==1.0.0->autogluon.core[all]==1.0.0->autogluon) (1.23.5)\n",
            "Requirement already satisfied: scipy<1.13,>=1.5.4 in /home/arawn/.local/lib/python3.9/site-packages (from autogluon.core==1.0.0->autogluon.core[all]==1.0.0->autogluon) (1.10.1)\n",
            "Collecting scikit-learn<1.5,>=1.3.0 (from autogluon.core==1.0.0->autogluon.core[all]==1.0.0->autogluon)\n",
            "  Using cached scikit_learn-1.3.2-cp39-cp39-manylinux_2_17_x86_64.manylinux2014_x86_64.whl.metadata (11 kB)\n",
            "Collecting networkx<4,>=3.0 (from autogluon.core==1.0.0->autogluon.core[all]==1.0.0->autogluon)\n",
            "  Downloading networkx-3.2.1-py3-none-any.whl.metadata (5.2 kB)\n",
            "Collecting pandas<2.2.0,>=2.0.0 (from autogluon.core==1.0.0->autogluon.core[all]==1.0.0->autogluon)\n",
            "  Downloading pandas-2.1.4-cp39-cp39-manylinux_2_17_x86_64.manylinux2014_x86_64.whl.metadata (18 kB)\n",
            "Requirement already satisfied: tqdm<5,>=4.38 in /home/arawn/.local/lib/python3.9/site-packages (from autogluon.core==1.0.0->autogluon.core[all]==1.0.0->autogluon) (4.65.0)\n",
            "Requirement already satisfied: requests in /home/arawn/.local/lib/python3.9/site-packages (from autogluon.core==1.0.0->autogluon.core[all]==1.0.0->autogluon) (2.28.2)\n",
            "Requirement already satisfied: matplotlib in /home/arawn/.local/lib/python3.9/site-packages (from autogluon.core==1.0.0->autogluon.core[all]==1.0.0->autogluon) (3.6.3)\n",
            "Requirement already satisfied: boto3<2,>=1.10 in /usr/lib/python3/dist-packages (from autogluon.core==1.0.0->autogluon.core[all]==1.0.0->autogluon) (1.13.14)\n",
            "Collecting autogluon.common==1.0.0 (from autogluon.core==1.0.0->autogluon.core[all]==1.0.0->autogluon)\n",
            "  Downloading autogluon.common-1.0.0-py3-none-any.whl.metadata (12 kB)\n",
            "Collecting ray<2.7,>=2.6.3 (from ray[default]<2.7,>=2.6.3; extra == \"all\"->autogluon.core[all]==1.0.0->autogluon)\n",
            "  Downloading ray-2.6.3-cp39-cp39-manylinux2014_x86_64.whl.metadata (12 kB)\n",
            "Requirement already satisfied: async-timeout in /usr/lib/python3/dist-packages (from autogluon.core[all]==1.0.0->autogluon) (3.0.1)\n",
            "Collecting hyperopt<0.2.8,>=0.2.7 (from autogluon.core[all]==1.0.0->autogluon)\n",
            "  Downloading hyperopt-0.2.7-py2.py3-none-any.whl (1.6 MB)\n",
            "\u001b[2K     \u001b[90m━━━━━━━━━━━━━━━━━━━━━━━━━━━━━━━━━━━━━━━━\u001b[0m \u001b[32m1.6/1.6 MB\u001b[0m \u001b[31m3.7 MB/s\u001b[0m eta \u001b[36m0:00:00\u001b[0ma \u001b[36m0:00:01\u001b[0m\n",
            "\u001b[?25hCollecting Pillow<11,>=10.0.1 (from autogluon.multimodal==1.0.0->autogluon)\n",
            "  Downloading Pillow-10.1.0-cp39-cp39-manylinux_2_28_x86_64.whl.metadata (9.5 kB)\n",
            "Collecting torch<2.1,>=2.0 (from autogluon.multimodal==1.0.0->autogluon)\n",
            "  Downloading torch-2.0.1-cp39-cp39-manylinux1_x86_64.whl (619.9 MB)\n",
            "\u001b[2K     \u001b[91m━━\u001b[0m\u001b[90m╺\u001b[0m\u001b[90m━━━━━━━━━━━━━━━━━━━━━━━━━━━━━━━━━━━━━\u001b[0m \u001b[32m34.5/619.9 MB\u001b[0m \u001b[31m6.9 MB/s\u001b[0m eta \u001b[36m0:01:25\u001b[0m"
          ]
        }
      ],
      "source": [
        "!pip install autogluon"
      ]
    },
    {
      "cell_type": "code",
      "execution_count": 25,
      "metadata": {
        "colab": {
          "base_uri": "https://localhost:8080/"
        },
        "id": "9ui3qIhkfE4T",
        "outputId": "b62b677a-84d1-4ca0-f268-99a47bd82a29"
      },
      "outputs": [
        {
          "name": "stderr",
          "output_type": "stream",
          "text": [
            "Loaded data from: train.csv | Columns = 81 / 81 | Rows = 1460 -> 1460\n",
            "Loaded data from: test.csv | Columns = 80 / 80 | Rows = 1459 -> 1459\n",
            "No path specified. Models will be saved in: \"AutogluonModels/ag-20231219_142450\"\n",
            "No presets specified! To achieve strong results with AutoGluon, it is recommended to use the available presets.\n",
            "\tRecommended Presets (For more details refer to https://auto.gluon.ai/stable/tutorials/tabular/tabular-essentials.html#presets):\n",
            "\tpresets='best_quality'   : Maximize accuracy. Default time_limit=3600.\n",
            "\tpresets='high_quality'   : Strong accuracy with fast inference speed. Default time_limit=3600.\n",
            "\tpresets='good_quality'   : Good accuracy with very fast inference speed. Default time_limit=3600.\n",
            "\tpresets='medium_quality' : Fast training time, ideal for initial prototyping.\n",
            "Beginning AutoGluon training ... Time limit = 400s\n",
            "AutoGluon will save models to \"AutogluonModels/ag-20231219_142450\"\n",
            "=================== System Info ===================\n",
            "AutoGluon Version:  1.0.0\n",
            "Python Version:     3.10.12\n",
            "Operating System:   Linux\n",
            "Platform Machine:   x86_64\n",
            "Platform Version:   #1 SMP PREEMPT_DYNAMIC Sat Nov 18 15:31:17 UTC 2023\n",
            "CPU Count:          2\n",
            "Memory Avail:       10.76 GB / 12.67 GB (84.9%)\n",
            "Disk Space Avail:   74.17 GB / 107.72 GB (68.9%)\n",
            "===================================================\n",
            "Train Data Rows:    1460\n",
            "Train Data Columns: 80\n",
            "Label Column:       SalePrice\n",
            "AutoGluon infers your prediction problem is: 'regression' (because dtype of label-column == int and many unique label-values observed).\n",
            "\tLabel info (max, min, mean, stddev): (755000, 34900, 180921.19589, 79442.50288)\n",
            "\tIf 'regression' is not the correct problem_type, please manually specify the problem_type parameter during predictor init (You may specify problem_type as one of: ['binary', 'multiclass', 'regression'])\n",
            "Problem Type:       regression\n",
            "Preprocessing data ...\n",
            "Using Feature Generators to preprocess the data ...\n",
            "Fitting AutoMLPipelineFeatureGenerator...\n",
            "\tAvailable Memory:                    11025.36 MB\n",
            "\tTrain Data (Original)  Memory Usage: 3.85 MB (0.0% of available memory)\n",
            "\tInferring data type of each feature based on column values. Set feature_metadata_in to manually specify special dtypes of the features.\n",
            "\tStage 1 Generators:\n",
            "\t\tFitting AsTypeFeatureGenerator...\n",
            "\t\t\tNote: Converting 3 features to boolean dtype as they only contain 2 unique values.\n",
            "\tStage 2 Generators:\n",
            "\t\tFitting FillNaFeatureGenerator...\n",
            "\tStage 3 Generators:\n",
            "\t\tFitting IdentityFeatureGenerator...\n",
            "\t\tFitting CategoryFeatureGenerator...\n",
            "\t\t\tFitting CategoryMemoryMinimizeFeatureGenerator...\n",
            "\tStage 4 Generators:\n",
            "\t\tFitting DropUniqueFeatureGenerator...\n",
            "\tStage 5 Generators:\n",
            "\t\tFitting DropDuplicatesFeatureGenerator...\n",
            "\tTypes of features in original data (raw dtype, special dtypes):\n",
            "\t\t('float', [])  :  3 | ['LotFrontage', 'MasVnrArea', 'GarageYrBlt']\n",
            "\t\t('int', [])    : 34 | ['Id', 'MSSubClass', 'LotArea', 'OverallQual', 'OverallCond', ...]\n",
            "\t\t('object', []) : 43 | ['MSZoning', 'Street', 'Alley', 'LotShape', 'LandContour', ...]\n",
            "\tTypes of features in processed data (raw dtype, special dtypes):\n",
            "\t\t('category', [])  : 40 | ['MSZoning', 'Alley', 'LotShape', 'LandContour', 'LotConfig', ...]\n",
            "\t\t('float', [])     :  3 | ['LotFrontage', 'MasVnrArea', 'GarageYrBlt']\n",
            "\t\t('int', [])       : 34 | ['Id', 'MSSubClass', 'LotArea', 'OverallQual', 'OverallCond', ...]\n",
            "\t\t('int', ['bool']) :  3 | ['Street', 'Utilities', 'CentralAir']\n",
            "\t0.8s = Fit runtime\n",
            "\t80 features in original data used to generate 80 features in processed data.\n",
            "\tTrain Data (Processed) Memory Usage: 0.49 MB (0.0% of available memory)\n",
            "Data preprocessing and feature engineering runtime = 0.88s ...\n",
            "AutoGluon will gauge predictive performance using evaluation metric: 'root_mean_squared_error'\n",
            "\tThis metric's sign has been flipped to adhere to being higher_is_better. The metric score can be multiplied by -1 to get the metric value.\n",
            "\tTo change this, specify the eval_metric parameter of Predictor()\n",
            "Automatically generating train/validation split with holdout_frac=0.2, Train Rows: 1168, Val Rows: 292\n",
            "User-specified model hyperparameters to be fit:\n",
            "{\n",
            "\t'NN_TORCH': {},\n",
            "\t'GBM': [{'extra_trees': True, 'ag_args': {'name_suffix': 'XT'}}, {}, 'GBMLarge'],\n",
            "\t'CAT': {},\n",
            "\t'XGB': {},\n",
            "\t'FASTAI': {},\n",
            "\t'RF': [{'criterion': 'gini', 'ag_args': {'name_suffix': 'Gini', 'problem_types': ['binary', 'multiclass']}}, {'criterion': 'entropy', 'ag_args': {'name_suffix': 'Entr', 'problem_types': ['binary', 'multiclass']}}, {'criterion': 'squared_error', 'ag_args': {'name_suffix': 'MSE', 'problem_types': ['regression', 'quantile']}}],\n",
            "\t'XT': [{'criterion': 'gini', 'ag_args': {'name_suffix': 'Gini', 'problem_types': ['binary', 'multiclass']}}, {'criterion': 'entropy', 'ag_args': {'name_suffix': 'Entr', 'problem_types': ['binary', 'multiclass']}}, {'criterion': 'squared_error', 'ag_args': {'name_suffix': 'MSE', 'problem_types': ['regression', 'quantile']}}],\n",
            "\t'KNN': [{'weights': 'uniform', 'ag_args': {'name_suffix': 'Unif'}}, {'weights': 'distance', 'ag_args': {'name_suffix': 'Dist'}}],\n",
            "}\n",
            "Fitting 11 L1 models ...\n",
            "Fitting model: KNeighborsUnif ... Training model for up to 399.12s of the 399.11s of remaining time.\n",
            "\t-52278.8213\t = Validation score   (-root_mean_squared_error)\n",
            "\t0.02s\t = Training   runtime\n",
            "\t0.01s\t = Validation runtime\n",
            "Fitting model: KNeighborsDist ... Training model for up to 399.08s of the 399.07s of remaining time.\n",
            "\t-51314.2734\t = Validation score   (-root_mean_squared_error)\n",
            "\t0.02s\t = Training   runtime\n",
            "\t0.01s\t = Validation runtime\n",
            "Fitting model: LightGBMXT ... Training model for up to 399.03s of the 399.03s of remaining time.\n"
          ]
        },
        {
          "name": "stdout",
          "output_type": "stream",
          "text": [
            "[1000]\tvalid_set's rmse: 28056.7\n",
            "[2000]\tvalid_set's rmse: 27819.9\n",
            "[3000]\tvalid_set's rmse: 27759.4\n",
            "[4000]\tvalid_set's rmse: 27748.5\n",
            "[5000]\tvalid_set's rmse: 27748\n",
            "[6000]\tvalid_set's rmse: 27748.3\n"
          ]
        },
        {
          "name": "stderr",
          "output_type": "stream",
          "text": [
            "\t-27747.7866\t = Validation score   (-root_mean_squared_error)\n",
            "\t11.6s\t = Training   runtime\n",
            "\t0.31s\t = Validation runtime\n",
            "Fitting model: LightGBM ... Training model for up to 386.3s of the 386.29s of remaining time.\n"
          ]
        },
        {
          "name": "stdout",
          "output_type": "stream",
          "text": [
            "[1000]\tvalid_set's rmse: 29938.2\n",
            "[2000]\tvalid_set's rmse: 29338.1\n",
            "[3000]\tvalid_set's rmse: 29179.7\n",
            "[4000]\tvalid_set's rmse: 29134.7\n",
            "[5000]\tvalid_set's rmse: 29123.3\n",
            "[6000]\tvalid_set's rmse: 29121.3\n",
            "[7000]\tvalid_set's rmse: 29120.9\n",
            "[8000]\tvalid_set's rmse: 29120.7\n",
            "[9000]\tvalid_set's rmse: 29120.7\n",
            "[10000]\tvalid_set's rmse: 29120.7\n"
          ]
        },
        {
          "name": "stderr",
          "output_type": "stream",
          "text": [
            "\t-29120.7058\t = Validation score   (-root_mean_squared_error)\n",
            "\t25.72s\t = Training   runtime\n",
            "\t0.86s\t = Validation runtime\n",
            "Fitting model: RandomForestMSE ... Training model for up to 358.08s of the 358.08s of remaining time.\n",
            "\t-32782.3258\t = Validation score   (-root_mean_squared_error)\n",
            "\t7.76s\t = Training   runtime\n",
            "\t0.11s\t = Validation runtime\n",
            "Fitting model: CatBoost ... Training model for up to 350.15s of the 350.15s of remaining time.\n",
            "\tRan out of time, early stopping on iteration 7345.\n",
            "\t-28472.4316\t = Validation score   (-root_mean_squared_error)\n",
            "\t350.37s\t = Training   runtime\n",
            "\t0.04s\t = Validation runtime\n",
            "Fitting model: WeightedEnsemble_L2 ... Training model for up to 360.0s of the -0.34s of remaining time.\n",
            "\tEnsemble Weights: {'LightGBMXT': 0.5, 'CatBoost': 0.294, 'LightGBM': 0.206}\n",
            "\t-27086.7307\t = Validation score   (-root_mean_squared_error)\n",
            "\t0.18s\t = Training   runtime\n",
            "\t0.0s\t = Validation runtime\n",
            "AutoGluon training complete, total runtime = 400.58s ... Best model: \"WeightedEnsemble_L2\"\n",
            "TabularPredictor saved. To load, use: predictor = TabularPredictor.load(\"AutogluonModels/ag-20231219_142450\")\n",
            "WARNING: Int features without null values at train time contain null values at inference time! Imputing nulls to 0. To avoid this, pass the features as floats during fit!\n",
            "WARNING: Int features with nulls: ['BsmtFinSF1', 'BsmtFinSF2', 'BsmtUnfSF', 'TotalBsmtSF', 'BsmtFullBath', 'BsmtHalfBath', 'GarageCars', 'GarageArea']\n"
          ]
        }
      ],
      "source": [
        "from autogluon.tabular import TabularDataset, TabularPredictor\n",
        "\n",
        "\n",
        "train_data = TabularDataset('train.csv')\n",
        "test_data = TabularDataset('test.csv')\n",
        "\n",
        "predictor = TabularPredictor(label='SalePrice').fit(train_data=train_data,time_limit=400)\n",
        "predictions = predictor.predict(test_data)"
      ]
    },
    {
      "cell_type": "code",
      "execution_count": 26,
      "metadata": {
        "id": "BRLgRLD2gsWW"
      },
      "outputs": [],
      "source": [
        "bestmodel = \"WeightedEnsemble_L2\""
      ]
    },
    {
      "cell_type": "code",
      "execution_count": 27,
      "metadata": {
        "id": "jh7hS9pKqVD1"
      },
      "outputs": [],
      "source": [
        "import pandas as pd"
      ]
    },
    {
      "cell_type": "code",
      "execution_count": 28,
      "metadata": {
        "id": "X1Hm5UV9pLgl"
      },
      "outputs": [],
      "source": [
        "## kagle submition ##\n",
        "submit = {\n",
        "    \"Id\": test_data.Id,\n",
        "    \"SalePrice\":predictions.tolist()\n",
        "    }"
      ]
    },
    {
      "cell_type": "code",
      "execution_count": 29,
      "metadata": {
        "id": "Z4cUK3sKqgoA"
      },
      "outputs": [],
      "source": [
        "pd.DataFrame(submit).to_csv(\"submit_2.csv\",index=False)"
      ]
    }
  ],
  "metadata": {
    "colab": {
      "provenance": []
    },
    "kernelspec": {
      "display_name": "Python 3",
      "name": "python3"
    },
    "language_info": {
      "codemirror_mode": {
        "name": "ipython",
        "version": 3
      },
      "file_extension": ".py",
      "mimetype": "text/x-python",
      "name": "python",
      "nbconvert_exporter": "python",
      "pygments_lexer": "ipython3",
      "version": "3.9.2"
    }
  },
  "nbformat": 4,
  "nbformat_minor": 0
}
