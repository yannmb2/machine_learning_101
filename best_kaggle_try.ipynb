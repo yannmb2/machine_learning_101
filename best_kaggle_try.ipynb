{
 "cells": [
  {
   "cell_type": "code",
   "execution_count": 12,
   "id": "intimate-retro",
   "metadata": {},
   "outputs": [],
   "source": [
    "# https://www.kaggle.com/competitions/house-prices-advanced-regression-techniques/data\n",
    "import pandas as pd\n",
    "import matplotlib.pyplot as plt\n",
    "import seaborn as sns\n",
    "import scipy.stats as st\n",
    "\n",
    "import plotly.express as px\n",
    "\n",
    "import sklearn.model_selection\n",
    "import numpy as np\n",
    "\n",
    "from sklearn.metrics import mean_squared_log_error\n",
    "from sklearn.linear_model import LinearRegression\n",
    "from sklearn.preprocessing import QuantileTransformer, OneHotEncoder\n",
    "from sklearn.model_selection import KFold\n",
    "import sklearn.metrics\n",
    "\n",
    "\n",
    "RANDOM_STATE = 42\n",
    "DATASET_YEAR = 2010"
   ]
  },
  {
   "attachments": {},
   "cell_type": "markdown",
   "id": "3f0a6fc0",
   "metadata": {},
   "source": [
    "We want to predict house prices "
   ]
  },
  {
   "cell_type": "code",
   "execution_count": 13,
   "id": "6ef8edd1",
   "metadata": {},
   "outputs": [],
   "source": [
    "target_column = 'SalePrice'"
   ]
  },
  {
   "attachments": {},
   "cell_type": "markdown",
   "id": "a84ff1b0",
   "metadata": {},
   "source": [
    "### Training dataset "
   ]
  },
  {
   "cell_type": "code",
   "execution_count": 14,
   "id": "f8d43da0",
   "metadata": {},
   "outputs": [
    {
     "data": {
      "text/html": [
       "<div>\n",
       "<style scoped>\n",
       "    .dataframe tbody tr th:only-of-type {\n",
       "        vertical-align: middle;\n",
       "    }\n",
       "\n",
       "    .dataframe tbody tr th {\n",
       "        vertical-align: top;\n",
       "    }\n",
       "\n",
       "    .dataframe thead th {\n",
       "        text-align: right;\n",
       "    }\n",
       "</style>\n",
       "<table border=\"1\" class=\"dataframe\">\n",
       "  <thead>\n",
       "    <tr style=\"text-align: right;\">\n",
       "      <th></th>\n",
       "      <th>Id</th>\n",
       "      <th>MSSubClass</th>\n",
       "      <th>MSZoning</th>\n",
       "      <th>LotFrontage</th>\n",
       "      <th>LotArea</th>\n",
       "      <th>Street</th>\n",
       "      <th>Alley</th>\n",
       "      <th>LotShape</th>\n",
       "      <th>LandContour</th>\n",
       "      <th>Utilities</th>\n",
       "      <th>...</th>\n",
       "      <th>PoolArea</th>\n",
       "      <th>PoolQC</th>\n",
       "      <th>Fence</th>\n",
       "      <th>MiscFeature</th>\n",
       "      <th>MiscVal</th>\n",
       "      <th>MoSold</th>\n",
       "      <th>YrSold</th>\n",
       "      <th>SaleType</th>\n",
       "      <th>SaleCondition</th>\n",
       "      <th>SalePrice</th>\n",
       "    </tr>\n",
       "  </thead>\n",
       "  <tbody>\n",
       "    <tr>\n",
       "      <th>0</th>\n",
       "      <td>1</td>\n",
       "      <td>60</td>\n",
       "      <td>RL</td>\n",
       "      <td>65.0</td>\n",
       "      <td>8450</td>\n",
       "      <td>Pave</td>\n",
       "      <td>NaN</td>\n",
       "      <td>Reg</td>\n",
       "      <td>Lvl</td>\n",
       "      <td>AllPub</td>\n",
       "      <td>...</td>\n",
       "      <td>0</td>\n",
       "      <td>NaN</td>\n",
       "      <td>NaN</td>\n",
       "      <td>NaN</td>\n",
       "      <td>0</td>\n",
       "      <td>2</td>\n",
       "      <td>2008</td>\n",
       "      <td>WD</td>\n",
       "      <td>Normal</td>\n",
       "      <td>208500</td>\n",
       "    </tr>\n",
       "    <tr>\n",
       "      <th>1</th>\n",
       "      <td>2</td>\n",
       "      <td>20</td>\n",
       "      <td>RL</td>\n",
       "      <td>80.0</td>\n",
       "      <td>9600</td>\n",
       "      <td>Pave</td>\n",
       "      <td>NaN</td>\n",
       "      <td>Reg</td>\n",
       "      <td>Lvl</td>\n",
       "      <td>AllPub</td>\n",
       "      <td>...</td>\n",
       "      <td>0</td>\n",
       "      <td>NaN</td>\n",
       "      <td>NaN</td>\n",
       "      <td>NaN</td>\n",
       "      <td>0</td>\n",
       "      <td>5</td>\n",
       "      <td>2007</td>\n",
       "      <td>WD</td>\n",
       "      <td>Normal</td>\n",
       "      <td>181500</td>\n",
       "    </tr>\n",
       "    <tr>\n",
       "      <th>2</th>\n",
       "      <td>3</td>\n",
       "      <td>60</td>\n",
       "      <td>RL</td>\n",
       "      <td>68.0</td>\n",
       "      <td>11250</td>\n",
       "      <td>Pave</td>\n",
       "      <td>NaN</td>\n",
       "      <td>IR1</td>\n",
       "      <td>Lvl</td>\n",
       "      <td>AllPub</td>\n",
       "      <td>...</td>\n",
       "      <td>0</td>\n",
       "      <td>NaN</td>\n",
       "      <td>NaN</td>\n",
       "      <td>NaN</td>\n",
       "      <td>0</td>\n",
       "      <td>9</td>\n",
       "      <td>2008</td>\n",
       "      <td>WD</td>\n",
       "      <td>Normal</td>\n",
       "      <td>223500</td>\n",
       "    </tr>\n",
       "    <tr>\n",
       "      <th>3</th>\n",
       "      <td>4</td>\n",
       "      <td>70</td>\n",
       "      <td>RL</td>\n",
       "      <td>60.0</td>\n",
       "      <td>9550</td>\n",
       "      <td>Pave</td>\n",
       "      <td>NaN</td>\n",
       "      <td>IR1</td>\n",
       "      <td>Lvl</td>\n",
       "      <td>AllPub</td>\n",
       "      <td>...</td>\n",
       "      <td>0</td>\n",
       "      <td>NaN</td>\n",
       "      <td>NaN</td>\n",
       "      <td>NaN</td>\n",
       "      <td>0</td>\n",
       "      <td>2</td>\n",
       "      <td>2006</td>\n",
       "      <td>WD</td>\n",
       "      <td>Abnorml</td>\n",
       "      <td>140000</td>\n",
       "    </tr>\n",
       "    <tr>\n",
       "      <th>4</th>\n",
       "      <td>5</td>\n",
       "      <td>60</td>\n",
       "      <td>RL</td>\n",
       "      <td>84.0</td>\n",
       "      <td>14260</td>\n",
       "      <td>Pave</td>\n",
       "      <td>NaN</td>\n",
       "      <td>IR1</td>\n",
       "      <td>Lvl</td>\n",
       "      <td>AllPub</td>\n",
       "      <td>...</td>\n",
       "      <td>0</td>\n",
       "      <td>NaN</td>\n",
       "      <td>NaN</td>\n",
       "      <td>NaN</td>\n",
       "      <td>0</td>\n",
       "      <td>12</td>\n",
       "      <td>2008</td>\n",
       "      <td>WD</td>\n",
       "      <td>Normal</td>\n",
       "      <td>250000</td>\n",
       "    </tr>\n",
       "  </tbody>\n",
       "</table>\n",
       "<p>5 rows × 81 columns</p>\n",
       "</div>"
      ],
      "text/plain": [
       "   Id  MSSubClass MSZoning  LotFrontage  LotArea Street Alley LotShape  \\\n",
       "0   1          60       RL         65.0     8450   Pave   NaN      Reg   \n",
       "1   2          20       RL         80.0     9600   Pave   NaN      Reg   \n",
       "2   3          60       RL         68.0    11250   Pave   NaN      IR1   \n",
       "3   4          70       RL         60.0     9550   Pave   NaN      IR1   \n",
       "4   5          60       RL         84.0    14260   Pave   NaN      IR1   \n",
       "\n",
       "  LandContour Utilities  ... PoolArea PoolQC Fence MiscFeature MiscVal MoSold  \\\n",
       "0         Lvl    AllPub  ...        0    NaN   NaN         NaN       0      2   \n",
       "1         Lvl    AllPub  ...        0    NaN   NaN         NaN       0      5   \n",
       "2         Lvl    AllPub  ...        0    NaN   NaN         NaN       0      9   \n",
       "3         Lvl    AllPub  ...        0    NaN   NaN         NaN       0      2   \n",
       "4         Lvl    AllPub  ...        0    NaN   NaN         NaN       0     12   \n",
       "\n",
       "  YrSold  SaleType  SaleCondition  SalePrice  \n",
       "0   2008        WD         Normal     208500  \n",
       "1   2007        WD         Normal     181500  \n",
       "2   2008        WD         Normal     223500  \n",
       "3   2006        WD        Abnorml     140000  \n",
       "4   2008        WD         Normal     250000  \n",
       "\n",
       "[5 rows x 81 columns]"
      ]
     },
     "execution_count": 14,
     "metadata": {},
     "output_type": "execute_result"
    }
   ],
   "source": [
    "df_train = pd.read_csv(\"datasets/train.csv\")\n",
    "df_train.head()"
   ]
  },
  {
   "attachments": {},
   "cell_type": "markdown",
   "id": "56b1f77a",
   "metadata": {},
   "source": [
    "### Test dataset "
   ]
  },
  {
   "cell_type": "code",
   "execution_count": 15,
   "id": "406950c9",
   "metadata": {},
   "outputs": [],
   "source": [
    "df_test = pd.read_csv(\"datasets/test.csv\")"
   ]
  },
  {
   "attachments": {},
   "cell_type": "markdown",
   "id": "1f1c27c5",
   "metadata": {},
   "source": [
    "### Numerical and categorical data"
   ]
  },
  {
   "cell_type": "code",
   "execution_count": 16,
   "id": "4e48f844",
   "metadata": {},
   "outputs": [],
   "source": [
    "def convert_df(df):\n",
    "    numerical_df = df.select_dtypes(include='number')\n",
    "    categorical_df = df.select_dtypes(exclude='number')\n",
    "    numerical_df = numerical_df.dropna(axis=1)\n",
    "    onehot_df =  pd.get_dummies(categorical_df,dummy_na=False)\n",
    "    all_df = pd.concat([numerical_df,onehot_df],axis=1)\n",
    "    return all_df"
   ]
  },
  {
   "cell_type": "code",
   "execution_count": 38,
   "id": "013fe2af",
   "metadata": {},
   "outputs": [
    {
     "data": {
      "text/plain": [
       "'Saleprice'"
      ]
     },
     "execution_count": 38,
     "metadata": {},
     "output_type": "execute_result"
    }
   ],
   "source": [
    "train_with_categories = convert_df(df_train)\n",
    "test_with_categories = convert_df(df_test)\n",
    "columns_test_price[-1]"
   ]
  },
  {
   "cell_type": "code",
   "execution_count": 39,
   "id": "29ad0ffd",
   "metadata": {},
   "outputs": [
    {
     "data": {
      "text/html": [
       "<div>\n",
       "<style scoped>\n",
       "    .dataframe tbody tr th:only-of-type {\n",
       "        vertical-align: middle;\n",
       "    }\n",
       "\n",
       "    .dataframe tbody tr th {\n",
       "        vertical-align: top;\n",
       "    }\n",
       "\n",
       "    .dataframe thead th {\n",
       "        text-align: right;\n",
       "    }\n",
       "</style>\n",
       "<table border=\"1\" class=\"dataframe\">\n",
       "  <thead>\n",
       "    <tr style=\"text-align: right;\">\n",
       "      <th></th>\n",
       "      <th>Id</th>\n",
       "      <th>MSSubClass</th>\n",
       "      <th>LotArea</th>\n",
       "      <th>OverallQual</th>\n",
       "      <th>OverallCond</th>\n",
       "      <th>YearBuilt</th>\n",
       "      <th>YearRemodAdd</th>\n",
       "      <th>1stFlrSF</th>\n",
       "      <th>2ndFlrSF</th>\n",
       "      <th>LowQualFinSF</th>\n",
       "      <th>...</th>\n",
       "      <th>SaleType_New</th>\n",
       "      <th>SaleType_Oth</th>\n",
       "      <th>SaleType_WD</th>\n",
       "      <th>SaleCondition_Abnorml</th>\n",
       "      <th>SaleCondition_AdjLand</th>\n",
       "      <th>SaleCondition_Alloca</th>\n",
       "      <th>SaleCondition_Family</th>\n",
       "      <th>SaleCondition_Normal</th>\n",
       "      <th>SaleCondition_Partial</th>\n",
       "      <th>SalePrice</th>\n",
       "    </tr>\n",
       "  </thead>\n",
       "  <tbody>\n",
       "    <tr>\n",
       "      <th>0</th>\n",
       "      <td>1</td>\n",
       "      <td>60</td>\n",
       "      <td>8450</td>\n",
       "      <td>7</td>\n",
       "      <td>5</td>\n",
       "      <td>2003</td>\n",
       "      <td>2003</td>\n",
       "      <td>856</td>\n",
       "      <td>854</td>\n",
       "      <td>0</td>\n",
       "      <td>...</td>\n",
       "      <td>0</td>\n",
       "      <td>0</td>\n",
       "      <td>1</td>\n",
       "      <td>0</td>\n",
       "      <td>0</td>\n",
       "      <td>0</td>\n",
       "      <td>0</td>\n",
       "      <td>1</td>\n",
       "      <td>0</td>\n",
       "      <td>208500</td>\n",
       "    </tr>\n",
       "    <tr>\n",
       "      <th>1</th>\n",
       "      <td>2</td>\n",
       "      <td>20</td>\n",
       "      <td>9600</td>\n",
       "      <td>6</td>\n",
       "      <td>8</td>\n",
       "      <td>1976</td>\n",
       "      <td>1976</td>\n",
       "      <td>1262</td>\n",
       "      <td>0</td>\n",
       "      <td>0</td>\n",
       "      <td>...</td>\n",
       "      <td>0</td>\n",
       "      <td>0</td>\n",
       "      <td>1</td>\n",
       "      <td>0</td>\n",
       "      <td>0</td>\n",
       "      <td>0</td>\n",
       "      <td>0</td>\n",
       "      <td>1</td>\n",
       "      <td>0</td>\n",
       "      <td>181500</td>\n",
       "    </tr>\n",
       "    <tr>\n",
       "      <th>2</th>\n",
       "      <td>3</td>\n",
       "      <td>60</td>\n",
       "      <td>11250</td>\n",
       "      <td>7</td>\n",
       "      <td>5</td>\n",
       "      <td>2001</td>\n",
       "      <td>2002</td>\n",
       "      <td>920</td>\n",
       "      <td>866</td>\n",
       "      <td>0</td>\n",
       "      <td>...</td>\n",
       "      <td>0</td>\n",
       "      <td>0</td>\n",
       "      <td>1</td>\n",
       "      <td>0</td>\n",
       "      <td>0</td>\n",
       "      <td>0</td>\n",
       "      <td>0</td>\n",
       "      <td>1</td>\n",
       "      <td>0</td>\n",
       "      <td>223500</td>\n",
       "    </tr>\n",
       "    <tr>\n",
       "      <th>3</th>\n",
       "      <td>4</td>\n",
       "      <td>70</td>\n",
       "      <td>9550</td>\n",
       "      <td>7</td>\n",
       "      <td>5</td>\n",
       "      <td>1915</td>\n",
       "      <td>1970</td>\n",
       "      <td>961</td>\n",
       "      <td>756</td>\n",
       "      <td>0</td>\n",
       "      <td>...</td>\n",
       "      <td>0</td>\n",
       "      <td>0</td>\n",
       "      <td>1</td>\n",
       "      <td>1</td>\n",
       "      <td>0</td>\n",
       "      <td>0</td>\n",
       "      <td>0</td>\n",
       "      <td>0</td>\n",
       "      <td>0</td>\n",
       "      <td>140000</td>\n",
       "    </tr>\n",
       "    <tr>\n",
       "      <th>4</th>\n",
       "      <td>5</td>\n",
       "      <td>60</td>\n",
       "      <td>14260</td>\n",
       "      <td>8</td>\n",
       "      <td>5</td>\n",
       "      <td>2000</td>\n",
       "      <td>2000</td>\n",
       "      <td>1145</td>\n",
       "      <td>1053</td>\n",
       "      <td>0</td>\n",
       "      <td>...</td>\n",
       "      <td>0</td>\n",
       "      <td>0</td>\n",
       "      <td>1</td>\n",
       "      <td>0</td>\n",
       "      <td>0</td>\n",
       "      <td>0</td>\n",
       "      <td>0</td>\n",
       "      <td>1</td>\n",
       "      <td>0</td>\n",
       "      <td>250000</td>\n",
       "    </tr>\n",
       "  </tbody>\n",
       "</table>\n",
       "<p>5 rows × 261 columns</p>\n",
       "</div>"
      ],
      "text/plain": [
       "   Id  MSSubClass  LotArea  OverallQual  OverallCond  YearBuilt  YearRemodAdd  \\\n",
       "0   1          60     8450            7            5       2003          2003   \n",
       "1   2          20     9600            6            8       1976          1976   \n",
       "2   3          60    11250            7            5       2001          2002   \n",
       "3   4          70     9550            7            5       1915          1970   \n",
       "4   5          60    14260            8            5       2000          2000   \n",
       "\n",
       "   1stFlrSF  2ndFlrSF  LowQualFinSF  ...  SaleType_New  SaleType_Oth  \\\n",
       "0       856       854             0  ...             0             0   \n",
       "1      1262         0             0  ...             0             0   \n",
       "2       920       866             0  ...             0             0   \n",
       "3       961       756             0  ...             0             0   \n",
       "4      1145      1053             0  ...             0             0   \n",
       "\n",
       "   SaleType_WD  SaleCondition_Abnorml  SaleCondition_AdjLand  \\\n",
       "0            1                      0                      0   \n",
       "1            1                      0                      0   \n",
       "2            1                      0                      0   \n",
       "3            1                      1                      0   \n",
       "4            1                      0                      0   \n",
       "\n",
       "   SaleCondition_Alloca  SaleCondition_Family  SaleCondition_Normal  \\\n",
       "0                     0                     0                     1   \n",
       "1                     0                     0                     1   \n",
       "2                     0                     0                     1   \n",
       "3                     0                     0                     0   \n",
       "4                     0                     0                     1   \n",
       "\n",
       "   SaleCondition_Partial  SalePrice  \n",
       "0                      0     208500  \n",
       "1                      0     181500  \n",
       "2                      0     223500  \n",
       "3                      0     140000  \n",
       "4                      0     250000  \n",
       "\n",
       "[5 rows x 261 columns]"
      ]
     },
     "execution_count": 39,
     "metadata": {},
     "output_type": "execute_result"
    }
   ],
   "source": [
    "# columns that work for the training  \n",
    "columns_test_price = test_with_categories.columns.values.tolist() + [target_column]\n",
    "train_with_categories = train_with_categories[columns_test_price]\n",
    "train_with_categories.head()"
   ]
  },
  {
   "cell_type": "code",
   "execution_count": 40,
   "id": "c0f93f13",
   "metadata": {},
   "outputs": [
    {
     "data": {
      "text/plain": [
       "True"
      ]
     },
     "execution_count": 40,
     "metadata": {},
     "output_type": "execute_result"
    }
   ],
   "source": [
    "# remove ID \n",
    "train = train_with_categories.drop(columns=[\"Id\"])"
   ]
  },
  {
   "attachments": {},
   "cell_type": "markdown",
   "id": "3f610f91",
   "metadata": {},
   "source": [
    "let's remove apply log when needed to normalise in the training dataset"
   ]
  },
  {
   "cell_type": "code",
   "execution_count": 48,
   "id": "6b50e288",
   "metadata": {},
   "outputs": [
    {
     "name": "stdout",
     "output_type": "stream",
     "text": [
      "['MSSubClass' 'LotArea' 'OverallQual' 'OverallCond' 'YearBuilt'\n",
      " 'YearRemodAdd' '1stFlrSF' '2ndFlrSF' 'LowQualFinSF' 'GrLivArea'\n",
      " 'FullBath' 'HalfBath' 'BedroomAbvGr' 'KitchenAbvGr' 'TotRmsAbvGrd'\n",
      " 'Fireplaces' 'WoodDeckSF' 'OpenPorchSF' 'EnclosedPorch' '3SsnPorch'\n",
      " 'ScreenPorch' 'PoolArea' 'MiscVal' 'MoSold' 'YrSold' 'MSZoning_C (all)'\n",
      " 'MSZoning_FV' 'MSZoning_RH' 'MSZoning_RL' 'MSZoning_RM' 'Street_Grvl'\n",
      " 'Street_Pave' 'Alley_Grvl' 'Alley_Pave' 'LotShape_IR1' 'LotShape_IR2'\n",
      " 'LotShape_IR3' 'LotShape_Reg' 'LandContour_Bnk' 'LandContour_HLS'\n",
      " 'LandContour_Low' 'LandContour_Lvl' 'Utilities_AllPub' 'LotConfig_Corner'\n",
      " 'LotConfig_CulDSac' 'LotConfig_FR2' 'LotConfig_FR3' 'LotConfig_Inside'\n",
      " 'LandSlope_Gtl' 'LandSlope_Mod' 'LandSlope_Sev' 'Neighborhood_Blmngtn'\n",
      " 'Neighborhood_Blueste' 'Neighborhood_BrDale' 'Neighborhood_BrkSide'\n",
      " 'Neighborhood_ClearCr' 'Neighborhood_CollgCr' 'Neighborhood_Crawfor'\n",
      " 'Neighborhood_Edwards' 'Neighborhood_Gilbert' 'Neighborhood_IDOTRR'\n",
      " 'Neighborhood_MeadowV' 'Neighborhood_Mitchel' 'Neighborhood_NAmes'\n",
      " 'Neighborhood_NPkVill' 'Neighborhood_NWAmes' 'Neighborhood_NoRidge'\n",
      " 'Neighborhood_NridgHt' 'Neighborhood_OldTown' 'Neighborhood_SWISU'\n",
      " 'Neighborhood_Sawyer' 'Neighborhood_SawyerW' 'Neighborhood_Somerst'\n",
      " 'Neighborhood_StoneBr' 'Neighborhood_Timber' 'Neighborhood_Veenker'\n",
      " 'Condition1_Artery' 'Condition1_Feedr' 'Condition1_Norm'\n",
      " 'Condition1_PosA' 'Condition1_PosN' 'Condition1_RRAe' 'Condition1_RRAn'\n",
      " 'Condition1_RRNe' 'Condition1_RRNn' 'Condition2_Artery'\n",
      " 'Condition2_Feedr' 'Condition2_Norm' 'Condition2_PosA' 'Condition2_PosN'\n",
      " 'BldgType_1Fam' 'BldgType_2fmCon' 'BldgType_Duplex' 'BldgType_Twnhs'\n",
      " 'BldgType_TwnhsE' 'HouseStyle_1.5Fin' 'HouseStyle_1.5Unf'\n",
      " 'HouseStyle_1Story' 'HouseStyle_2.5Unf' 'HouseStyle_2Story'\n",
      " 'HouseStyle_SFoyer' 'HouseStyle_SLvl' 'RoofStyle_Flat' 'RoofStyle_Gable'\n",
      " 'RoofStyle_Gambrel' 'RoofStyle_Hip' 'RoofStyle_Mansard' 'RoofStyle_Shed'\n",
      " 'RoofMatl_CompShg' 'RoofMatl_Tar&Grv' 'RoofMatl_WdShake'\n",
      " 'RoofMatl_WdShngl' 'Exterior1st_AsbShng' 'Exterior1st_AsphShn'\n",
      " 'Exterior1st_BrkComm' 'Exterior1st_BrkFace' 'Exterior1st_CBlock'\n",
      " 'Exterior1st_CemntBd' 'Exterior1st_HdBoard' 'Exterior1st_MetalSd'\n",
      " 'Exterior1st_Plywood' 'Exterior1st_Stucco' 'Exterior1st_VinylSd'\n",
      " 'Exterior1st_Wd Sdng' 'Exterior1st_WdShing' 'Exterior2nd_AsbShng'\n",
      " 'Exterior2nd_AsphShn' 'Exterior2nd_Brk Cmn' 'Exterior2nd_BrkFace'\n",
      " 'Exterior2nd_CBlock' 'Exterior2nd_CmentBd' 'Exterior2nd_HdBoard'\n",
      " 'Exterior2nd_ImStucc' 'Exterior2nd_MetalSd' 'Exterior2nd_Plywood'\n",
      " 'Exterior2nd_Stone' 'Exterior2nd_Stucco' 'Exterior2nd_VinylSd'\n",
      " 'Exterior2nd_Wd Sdng' 'Exterior2nd_Wd Shng' 'MasVnrType_BrkCmn'\n",
      " 'MasVnrType_BrkFace' 'MasVnrType_None' 'MasVnrType_Stone' 'ExterQual_Ex'\n",
      " 'ExterQual_Fa' 'ExterQual_Gd' 'ExterQual_TA' 'ExterCond_Ex'\n",
      " 'ExterCond_Fa' 'ExterCond_Gd' 'ExterCond_Po' 'ExterCond_TA'\n",
      " 'Foundation_BrkTil' 'Foundation_CBlock' 'Foundation_PConc'\n",
      " 'Foundation_Slab' 'Foundation_Stone' 'Foundation_Wood' 'BsmtQual_Ex'\n",
      " 'BsmtQual_Fa' 'BsmtQual_Gd' 'BsmtQual_TA' 'BsmtCond_Fa' 'BsmtCond_Gd'\n",
      " 'BsmtCond_Po' 'BsmtCond_TA' 'BsmtExposure_Av' 'BsmtExposure_Gd'\n",
      " 'BsmtExposure_Mn' 'BsmtExposure_No' 'BsmtFinType1_ALQ' 'BsmtFinType1_BLQ'\n",
      " 'BsmtFinType1_GLQ' 'BsmtFinType1_LwQ' 'BsmtFinType1_Rec'\n",
      " 'BsmtFinType1_Unf' 'BsmtFinType2_ALQ' 'BsmtFinType2_BLQ'\n",
      " 'BsmtFinType2_GLQ' 'BsmtFinType2_LwQ' 'BsmtFinType2_Rec'\n",
      " 'BsmtFinType2_Unf' 'Heating_GasA' 'Heating_GasW' 'Heating_Grav'\n",
      " 'Heating_Wall' 'HeatingQC_Ex' 'HeatingQC_Fa' 'HeatingQC_Gd'\n",
      " 'HeatingQC_Po' 'HeatingQC_TA' 'CentralAir_N' 'CentralAir_Y'\n",
      " 'Electrical_FuseA' 'Electrical_FuseF' 'Electrical_FuseP'\n",
      " 'Electrical_SBrkr' 'KitchenQual_Ex' 'KitchenQual_Fa' 'KitchenQual_Gd'\n",
      " 'KitchenQual_TA' 'Functional_Maj1' 'Functional_Maj2' 'Functional_Min1'\n",
      " 'Functional_Min2' 'Functional_Mod' 'Functional_Sev' 'Functional_Typ'\n",
      " 'FireplaceQu_Ex' 'FireplaceQu_Fa' 'FireplaceQu_Gd' 'FireplaceQu_Po'\n",
      " 'FireplaceQu_TA' 'GarageType_2Types' 'GarageType_Attchd'\n",
      " 'GarageType_Basment' 'GarageType_BuiltIn' 'GarageType_CarPort'\n",
      " 'GarageType_Detchd' 'GarageFinish_Fin' 'GarageFinish_RFn'\n",
      " 'GarageFinish_Unf' 'GarageQual_Fa' 'GarageQual_Gd' 'GarageQual_Po'\n",
      " 'GarageQual_TA' 'GarageCond_Ex' 'GarageCond_Fa' 'GarageCond_Gd'\n",
      " 'GarageCond_Po' 'GarageCond_TA' 'PavedDrive_N' 'PavedDrive_P'\n",
      " 'PavedDrive_Y' 'PoolQC_Ex' 'PoolQC_Gd' 'Fence_GdPrv' 'Fence_GdWo'\n",
      " 'Fence_MnPrv' 'Fence_MnWw' 'MiscFeature_Gar2' 'MiscFeature_Othr'\n",
      " 'MiscFeature_Shed' 'SaleType_COD' 'SaleType_CWD' 'SaleType_Con'\n",
      " 'SaleType_ConLD' 'SaleType_ConLI' 'SaleType_ConLw' 'SaleType_New'\n",
      " 'SaleType_Oth' 'SaleType_WD' 'SaleCondition_Abnorml'\n",
      " 'SaleCondition_AdjLand' 'SaleCondition_Alloca' 'SaleCondition_Family'\n",
      " 'SaleCondition_Normal' 'SaleCondition_Partial' 'SalePrice']\n"
     ]
    }
   ],
   "source": [
    "print(train.columns.values)"
   ]
  },
  {
   "cell_type": "code",
   "execution_count": 43,
   "id": "b8083c10",
   "metadata": {},
   "outputs": [
    {
     "data": {
      "text/plain": [
       "<AxesSubplot: ylabel='Frequency'>"
      ]
     },
     "execution_count": 43,
     "metadata": {},
     "output_type": "execute_result"
    },
    {
     "data": {
      "image/png": "[encoded data removed]",
      "text/plain": [
       "<Figure size 432x288 with 1 Axes>"
      ]
     },
     "metadata": {
      "needs_background": "light"
     },
     "output_type": "display_data"
    }
   ],
   "source": [
    "train.LotArea.map(lambda x : np.log(x)).plot.hist()"
   ]
  },
  {
   "attachments": {},
   "cell_type": "markdown",
   "id": "4459ac2c",
   "metadata": {},
   "source": [
    "We need to apply log function to LotArea as to make it more of a normal distribution"
   ]
  },
  {
   "cell_type": "code",
   "execution_count": 60,
   "id": "086e4bc8",
   "metadata": {},
   "outputs": [
    {
     "data": {
      "text/plain": [
       "<AxesSubplot: ylabel='Frequency'>"
      ]
     },
     "execution_count": 60,
     "metadata": {},
     "output_type": "execute_result"
    },
    {
     "data": {
      "image/png": "[encoded data removed]",
      "text/plain": [
       "<Figure size 432x288 with 1 Axes>"
      ]
     },
     "metadata": {
      "needs_background": "light"
     },
     "output_type": "display_data"
    }
   ],
   "source": [
    "(2011 - train.YearBuilt).plot.hist()"
   ]
  },
  {
   "cell_type": "code",
   "execution_count": null,
   "id": "22e21073",
   "metadata": {},
   "outputs": [],
   "source": [
    "def transformations(df):\n",
    "    df[\"LotArea\"] = df.LotArea.map(lambda x : np.log(x))\n",
    "    "
   ]
  }
 ],
 "metadata": {
  "kernelspec": {
   "display_name": "Python 3",
   "language": "python",
   "name": "python3"
  },
  "language_info": {
   "codemirror_mode": {
    "name": "ipython",
    "version": 3
   },
   "file_extension": ".py",
   "mimetype": "text/x-python",
   "name": "python",
   "nbconvert_exporter": "python",
   "pygments_lexer": "ipython3",
   "version": "3.9.2"
  }
 },
 "nbformat": 4,
 "nbformat_minor": 5
}
